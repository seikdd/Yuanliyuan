{
 "cells": [
  {
   "cell_type": "code",
   "execution_count": 1,
   "metadata": {},
   "outputs": [
    {
     "name": "stdout",
     "output_type": "stream",
     "text": [
      "[['one', 3, 1.0], ['was', 2, 3.0], ['a', 2, 3.0], ['two', 2, 3.0], ['racehorse', 1, 9.5], [';', 1, 9.5], ['too', 1, 9.5], [',', 1, 9.5], ['how', 1, 9.5], ['much', 1, 9.5], ['wood', 1, 9.5], ['could', 1, 9.5], ['woodchuck', 1, 9.5], ['chuck', 1, 9.5]]\n",
      "None\n"
     ]
    }
   ],
   "source": [
    "import re\n",
    "import pandas\n",
    "from collections import Counter\n",
    "\n",
    "def authattr_worddict(doc):\n",
    "    doc=re.sub('[^a-zA-Z;,.]',' ',doc)\n",
    "    doc=doc.lower()\n",
    "    a=dict([i,doc.split().count(i)] for i in doc.split())\n",
    "    return (sorted(a.items(),key=lambda x:x[1],reverse=True))\n",
    "\n",
    "def authattr_ranking(a):\n",
    "    m=[(Counter(a)[k]-1)/2 for k in Counter(a)] #求ranking1\n",
    "        \n",
    "\n",
    "    arr = pandas.Series(a) #求ranking2\n",
    "    n=arr.rank(ascending=False, method='min')\n",
    "\n",
    "    ranking=[n[0]+m[0]]     #求sum-ranking\n",
    "    \n",
    "    i=1\n",
    "    j=0\n",
    "    while i<len(n):\n",
    "        if n[i]!=n[i-1]:\n",
    "            summm=n[i]+m[j+1]\n",
    "            ranking.append(summm)\n",
    "            i+=1\n",
    "            j+=1\n",
    "        else:\n",
    "            summm=n[i]+m[j]\n",
    "            ranking.append(summm)\n",
    "            i+=1\n",
    "    return ranking\n",
    "\n",
    "def authattr_authorpred(authordict, unknown, maxrank):\n",
    "    word_a1=authordict.get('tim')[0]+' , '+authordict.get('tim')[1]\n",
    "    authordict_1=authattr_worddict(word_a1)\n",
    "    list1=[x[0] for x in authordict_1] \n",
    "    list2=[x[1] for x in authordict_1]\n",
    "    list3=authattr_ranking(list2)\n",
    "    a=[i for i in map(list,zip(list1,list2,list3))]\n",
    "    print(a)\n",
    "\n",
    "#     authordict_1=authattr_worddict(unknown)\n",
    "    \n",
    "authordict={'tim': ['One One was a racehorse ; Two Two was one too', 'How much wood could a woodchuck chuck']}\n",
    "unknown='She sells sea shells on the seashore'\n",
    "maxrank=20\n",
    "k=authattr_authorpred(authordict,unknown,maxrank)\n",
    "print(k)\n"
   ]
  },
  {
   "cell_type": "markdown",
   "metadata": {},
   "source": [
    "读文件tox21.csv , 该文件为毒性分子数据库，\n",
    "其中O列smiles属性表示该分子式，\n",
    "B-M行表示该分子具有的12中化学属性，1表示有该属性，0表示无该属性，没有数字表示未知。\n",
    "根据tox21.csv生成一个新的.csv文件，该新文件包含12个sheet，每一个子文件表示一种属性。\n",
    "第一列为分子序号（与tox21.csv中的第A列序号一致），\n",
    "第二列为Mol_id(与tox21.csv中的N列内容一致)，\n",
    "第三列为分子式，\n",
    "第四列为是否具有该属性，若属性值未知，则该分子不包含在当前sheet中。\n"
   ]
  },
  {
   "cell_type": "code",
   "execution_count": null,
   "metadata": {},
   "outputs": [],
   "source": [
    "import pandas as pd\n",
    "import xlwt\n",
    "import xlrd\n",
    "\n",
    "df=pd.read_csv(\"tox21.csv\")\n",
    "writer=pd.ExcelWriter(\"tox21.xls\")\n",
    "\n",
    "i=1\n",
    "while i<13:\n",
    "    sheet='sheet%s'%i\n",
    "    col=['NR-AR','NR-AR-LBD','NR-AhR','NR-Aromatase','NR-ER','NR-ER-LBD','NR-PPAR-gamma','SR-ARE','SR-ATAD5','SR-HSE','SR-MMP','SR-p53']\n",
    "    df.to_excel(writer,sheet_name=sheet,columns=['mol_id','smiles',col[i-1]])\n",
    "    i+=1\n",
    "       \n",
    "writer.save()"
   ]
  },
  {
   "cell_type": "code",
   "execution_count": null,
   "metadata": {},
   "outputs": [],
   "source": [
    "1.Find the title of each film\n",
    "    SELECT title FROM movies;\n",
    "2.Find the director of each film\n",
    "    SELECT director FROM movies; \n",
    "3.Find the title and director of each film \n",
    "    SELECT title, director FROM movies; \n",
    "4.Find the title and year of each film \n",
    "    SELECT title, year FROM movies; \n",
    "5.Find all the information about each film \n",
    "    SELECT * FROM movies; "
   ]
  },
  {
   "cell_type": "code",
   "execution_count": null,
   "metadata": {},
   "outputs": [],
   "source": [
    "1.Find the movie with a row id of 6 \n",
    "    SELECT id, title FROM movies \n",
    "    WHERE id = 6;\n",
    "2.Find the movies released in the years between 2000 and 2010\n",
    "    SELECT title, year FROM movies\n",
    "    WHERE year BETWEEN 2000 AND 2010;\n",
    "3.Find the movies not released in the years between 2000 and 2010\n",
    "    SELECT title, year FROM movies\n",
    "    WHERE year < 2000 OR year > 2010;\n",
    "4.Find the first 5 Pixar movies and their release year\n",
    "    SELECT title, year FROM movies\n",
    "    WHERE year <= 2003;"
   ]
  },
  {
   "cell_type": "code",
   "execution_count": null,
   "metadata": {},
   "outputs": [],
   "source": [
    "1.Find all the Toy Story movies \n",
    "    SELECT title, director FROM movies \n",
    "    WHERE title LIKE \"Toy Story%\";\n",
    "2.Find all the movies directed by John Lasseter \n",
    "    SELECT title, director FROM movies \n",
    "    WHERE director = \"John Lasseter\";\n",
    "3.Find all the movies (and director) not directed by John Lasseter \n",
    "    SELECT title, director FROM movies \n",
    "    WHERE director != \"John Lasseter\";\n",
    "4.Find all the WALL-* movies \n",
    "    SELECT * FROM movies \n",
    "    WHERE title LIKE \"WALL-_\";"
   ]
  },
  {
   "cell_type": "code",
   "execution_count": null,
   "metadata": {},
   "outputs": [],
   "source": [
    "1.List all directors of Pixar movies (alphabetically), without duplicates\n",
    "    SELECT DISTINCT director FROM movies\n",
    "    ORDER BY director ASC;\n",
    "2.List the last four Pixar movies released (ordered from most recent to least)\n",
    "    SELECT title, year FROM movies\n",
    "    ORDER BY year DESC\n",
    "    LIMIT 4;\n",
    "3.List the first five Pixar movies sorted alphabetically \n",
    "    SELECT title FROM movies\n",
    "    ORDER BY title ASC\n",
    "    LIMIT 5;\n",
    "4.List the next five Pixar movies sorted alphabetically \n",
    "    SELECT title FROM movies\n",
    "    ORDER BY title ASC\n",
    "    LIMIT 5 OFFSET 5;"
   ]
  },
  {
   "cell_type": "code",
   "execution_count": null,
   "metadata": {},
   "outputs": [],
   "source": [
    "1.List all the Canadian cities and their populations \n",
    "    SELECT city, population FROM north_american_cities\n",
    "    WHERE country = \"Canada\";\n",
    "2.Order all the cities in the United States by their latitude from north to south\n",
    "    SELECT city, latitude FROM north_american_cities\n",
    "    WHERE country = \"United States\"\n",
    "    ORDER BY latitude DESC;\n",
    "3.List all the cities west of Chicago, ordered from west to east\n",
    "    SELECT city, longitude FROM north_american_cities\n",
    "    WHERE longitude < -87.629798\n",
    "    ORDER BY longitude ASC;\n",
    "4.List the two largest cities in Mexico (by population) \n",
    "    SELECT city, population FROM north_american_cities\n",
    "    WHERE country LIKE \"Mexico\"\n",
    "    ORDER BY population DESC\n",
    "    LIMIT 2;\n",
    "5.List the third and fourth largest cities (by population) in the United States and their population \n",
    "    SELECT city, population FROM north_american_cities\n",
    "    WHERE country LIKE \"United States\"\n",
    "    ORDER BY population DESC\n",
    "    LIMIT 2 OFFSET 2;"
   ]
  },
  {
   "cell_type": "code",
   "execution_count": null,
   "metadata": {},
   "outputs": [],
   "source": [
    "1.Find the domestic and international sales for each movie \n",
    "    SELECT title, domestic_sales, international_sales \n",
    "    FROM movies\n",
    "      JOIN boxoffice\n",
    "        ON movies.id = boxoffice.movie_id;\n",
    "2.Show the sales numbers for each movie that did better internationally rather than domestically \n",
    "    SELECT title, domestic_sales, international_sales\n",
    "    FROM movies\n",
    "      JOIN boxoffice\n",
    "        ON movies.id = boxoffice.movie_id\n",
    "    WHERE international_sales > domestic_sales;\n",
    "3.List all the movies by their ratings in descending order \n",
    "    SELECT title, rating\n",
    "    FROM movies\n",
    "      JOIN boxoffice\n",
    "        ON movies.id = boxoffice.movie_id\n",
    "    ORDER BY rating DESC;"
   ]
  },
  {
   "cell_type": "code",
   "execution_count": null,
   "metadata": {},
   "outputs": [],
   "source": [
    "1.Find the list of all buildings that have employees \n",
    "    SELECT DISTINCT building FROM employees;\n",
    "2.Find the list of all buildings and their capacity \n",
    "    SELECT * FROM buildings;\n",
    "3.List all buildings and the distinct employee roles in each building (including empty buildings) \n",
    "    SELECT DISTINCT building_name, role \n",
    "    FROM buildings \n",
    "      LEFT JOIN employees\n",
    "        ON building_name = building;"
   ]
  },
  {
   "cell_type": "code",
   "execution_count": null,
   "metadata": {},
   "outputs": [],
   "source": [
    "1.Find the name and role of all employees who have not been assigned to a building\n",
    "    SELECT name, role FROM employees\n",
    "    WHERE building IS NULL;\n",
    "2.Find the names of the buildings that hold no employees \n",
    "    SELECT DISTINCT building_name\n",
    "    FROM buildings \n",
    "      LEFT JOIN employees\n",
    "        ON building_name = building\n",
    "    WHERE role IS NULL;"
   ]
  },
  {
   "cell_type": "code",
   "execution_count": null,
   "metadata": {},
   "outputs": [],
   "source": [
    "1.List all movies and their combined sales in millions of dollars \n",
    "    SELECT title, (domestic_sales + international_sales) / 1000000 AS gross_sales_millions\n",
    "    FROM movies\n",
    "      JOIN boxoffice\n",
    "        ON movies.id = boxoffice.movie_id;\n",
    "2.List all movies and their ratings in percent \n",
    "    SELECT title, rating * 10 AS rating_percent\n",
    "    FROM movies\n",
    "      JOIN boxoffice\n",
    "        ON movies.id = boxoffice.movie_id;\n",
    "3.List all movies that were released on even number years \n",
    "    SELECT title, year\n",
    "    FROM movies\n",
    "    WHERE year % 2 = 0;"
   ]
  },
  {
   "cell_type": "code",
   "execution_count": null,
   "metadata": {},
   "outputs": [],
   "source": [
    "1.Find the longest time that an employee has been at the studio \n",
    "    SELECT MAX(years_employed) as Max_years_employed\n",
    "    FROM employees;\n",
    "2.For each role, find the average number of years employed by employees in that role \n",
    "    SELECT role, AVG(years_employed) as Average_years_employed\n",
    "    FROM employees\n",
    "    GROUP BY role;\n",
    "3.Find the total number of employee years worked in each building \n",
    "    SELECT building, SUM(years_employed) as Total_years_employed\n",
    "    FROM employees\n",
    "    GROUP BY building;"
   ]
  },
  {
   "cell_type": "code",
   "execution_count": null,
   "metadata": {},
   "outputs": [],
   "source": [
    "1.Find the number of Artists in the studio (without a HAVING clause)\n",
    "    SELECT role, COUNT(*) as Number_of_artists\n",
    "    FROM employees\n",
    "    WHERE role = \"Artist\";\n",
    "2.Find the number of Employees of each role in the studio \n",
    "    SELECT role, COUNT(*)\n",
    "    FROM employees\n",
    "    GROUP BY role;\n",
    "3.Find the total number of years employed by all Engineers \n",
    "    SELECT role, SUM(years_employed)\n",
    "    FROM employees\n",
    "    GROUP BY role\n",
    "    HAVING role = \"Engineer\";"
   ]
  },
  {
   "cell_type": "code",
   "execution_count": null,
   "metadata": {},
   "outputs": [],
   "source": [
    "1.Find the number of movies each director has directed \n",
    "    SELECT director, COUNT(id) as Num_movies_directed\n",
    "    FROM movies\n",
    "    GROUP BY director;\n",
    "2.Find the total domestic and international sales that can be attributed to each director \n",
    "    SELECT director, SUM(domestic_sales + international_sales) as Cumulative_sales_from_all_movies\n",
    "    FROM movies\n",
    "        INNER JOIN boxoffice\n",
    "            ON movies.id = boxoffice.movie_id\n",
    "    GROUP BY director;"
   ]
  },
  {
   "cell_type": "code",
   "execution_count": null,
   "metadata": {},
   "outputs": [],
   "source": [
    "1.Add the studio's new production, Toy Story 4 to the list of movies (you can use any director) \n",
    "    INSERT INTO movies VALUES (4, \"Toy Story 4\", \"El Directore\", 2015, 90);\n",
    "2.Toy Story 4 has been released to critical acclaim! It had a rating of 8.7, and made 340 million domestically and 270 million internationally. Add the record to the BoxOffice table. \n",
    "    INSERT INTO boxoffice VALUES (4, 8.7, 340000000, 270000000);"
   ]
  },
  {
   "cell_type": "code",
   "execution_count": null,
   "metadata": {},
   "outputs": [],
   "source": [
    "1.The director for A Bug's Life is incorrect, it was actually directed by John Lasseter \n",
    "    UPDATE movies\n",
    "    SET director = \"John Lasseter\"\n",
    "WHERE id = 2;\n",
    "2.The year that Toy Story 2 was released is incorrect, it was actually released in 1999 \n",
    "    UPDATE movies\n",
    "    SET year = 1999\n",
    "    WHERE id = 3;\n",
    "3.Both the title and directory for Toy Story 8 is incorrect! The title should be \"Toy Story 3\" and it was directed by Lee Unkrich \n",
    "    UPDATE movies\n",
    "    SET title = \"Toy Story 3\", director = \"Lee Unkrich\"\n",
    "    WHERE id = 11;"
   ]
  },
  {
   "cell_type": "code",
   "execution_count": null,
   "metadata": {},
   "outputs": [],
   "source": [
    "1.This database is getting too big, lets remove all movies that were released before 2005. \n",
    "    DELETE FROM movies\n",
    "    where year < 2005;\n",
    "2.Andrew Stanton has also left the studio, so please remove all movies directed by him.\n",
    "    DELETE FROM movies\n",
    "    where director = \"Andrew Stanton\";"
   ]
  },
  {
   "cell_type": "code",
   "execution_count": null,
   "metadata": {},
   "outputs": [],
   "source": [
    "1.Create a new table named Database with the following columns:\n",
    "– Name A string (text) describing the name of the database\n",
    "– Version A number (floating point) of the latest version of this database\n",
    "– Download_count An integer count of the number of times this database was downloaded\n",
    "This table has no constraints. \n",
    "\n",
    "CREATE TABLE Database (\n",
    "    Name TEXT,\n",
    "    Version FLOAT,\n",
    "    Download_count INTEGER\n",
    ");"
   ]
  },
  {
   "cell_type": "code",
   "execution_count": null,
   "metadata": {},
   "outputs": [],
   "source": [
    "1.Add a column named Aspect_ratio with a FLOAT data type to store the aspect-ratio each movie was released in.\n",
    "    ALTER TABLE Movies\n",
    "      ADD COLUMN Aspect_ratio FLOAT DEFAULT 2.39;\n",
    "2.Add another column named Language with a TEXT data type to store the language that the movie was released in. Ensure that the default for this language is English. \n",
    "    ALTER TABLE Movies\n",
    "      ADD COLUMN Language TEXT DEFAULT \"English\";"
   ]
  },
  {
   "cell_type": "code",
   "execution_count": null,
   "metadata": {},
   "outputs": [],
   "source": [
    "1.We've sadly reached the end of our lessons, lets clean up by removing the Movies table \n",
    "    DROP TABLE Movies;\n",
    "2.And drop the BoxOffice table as well \n",
    "    DROP TABLE BoxOffice;"
   ]
  }
 ],
 "metadata": {
  "kernelspec": {
   "display_name": "Python 3",
   "language": "python",
   "name": "python3"
  },
  "language_info": {
   "codemirror_mode": {
    "name": "ipython",
    "version": 3
   },
   "file_extension": ".py",
   "mimetype": "text/x-python",
   "name": "python",
   "nbconvert_exporter": "python",
   "pygments_lexer": "ipython3",
   "version": "3.7.3"
  }
 },
 "nbformat": 4,
 "nbformat_minor": 2
}
