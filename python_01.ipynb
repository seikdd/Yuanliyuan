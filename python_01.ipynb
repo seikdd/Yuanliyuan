{
 "cells": [
  {
   "cell_type": "markdown",
   "metadata": {},
   "source": [
    "# python简述"
   ]
  },
  {
   "cell_type": "markdown",
   "metadata": {},
   "source": [
    "    Python的官方定义为：Python是一种解释型的、面向对象的、带有动态语义的高级程序设计语言"
   ]
  },
  {
   "cell_type": "markdown",
   "metadata": {},
   "source": [
    "### 1.python是一种解释型语言\n",
    "    Python 解释器把源代码转换成称为字节码的中间形式，然后再把它翻译成计算机使用的机器语言并运行。\n",
    "    \n",
    "    （1）解释型：程序不需要编译，程序在运行时才翻译成机器语言，每执行一次都要翻译一次，如Python/JavaScript / Perl /Shell等。\n",
    "         优点：比编译器容易实现，保证安全性。良好的平台兼容性，在任何环境中都可以运行，前提是安装了解释器（虚拟机）。灵活，修改代码的时候直接修改就可以，可以快速部署，不用停机维护。\n",
    "         缺点：执行速度没有编译器快，占用更多内存和CPU资源\n",
    "         \n",
    "    （2）编译型：把源程序的语句都编译成机器语言,并保存成二进制文件,这样运行时计算机可以直接以机器语言来运行此程序,速度很快。\n",
    "         优点：编译器一般会有预编译的过程对代码进行优化。因为编译只做一次，运行时不需要编译，所以编译型语言的程序执行效率高。可以脱离语言环境独立运行。\n",
    "         缺点：编译之后如果需要修改就需要整个模块重新编译。编译的时候根据对应的运行环境生成机器码，不同的操作系统之间移植就会有问题，需要根据运行的操作系统环境编译不同的可执行文件。\n"
   ]
  },
  {
   "cell_type": "markdown",
   "metadata": {},
   "source": [
    "### 2.python是面向对象语言\n",
    "    Python既支持面向对象的编程也支持面向过程的编程。\n",
    "    在Python中，所有数据类型都可以视为对象，当然也可以自定义对象。自定义的对象数据类型就是面向对象中的类（Class）的概念。   \n",
    "    \n",
    "    （1）面向过程：流水线式思维，过程即解决问题的步骤\n",
    "         优点：极大的降低了写程序的复杂度，只需要顺着要执行的步骤，堆叠代码即可。\n",
    "         缺点：一套流水线或者流程就是用来解决一个问题，代码牵一发而动全身。\n",
    "\n",
    "    （2）面向对象：面向对象的程序设计好比如来设计西游记，如来要解决的问题是把经书传给东土大唐，如来想了想解决这个问题需要四个人：唐僧，沙和尚，猪八戒，孙悟空，每个人都有各自的特征和技能\n",
    "         优点：解决了程序的扩展性。对某一个对象单独修改，会立刻反映到整个体系中，如对游戏中一个人物参数的特征和技能修改都很容易。\n",
    "         缺点：可控性差，无法向面向过程的程序设计流水线式的可以很精准的预测问题的处理流程与结果\n",
    "    "
   ]
  },
  {
   "cell_type": "markdown",
   "metadata": {},
   "source": [
    "### 3.python具有动态语义\n",
    "    一个对象的语义，不是由于它继承自特定的类或者实现某个接口，而是由它的属性和方法的集合所决定。\n",
    "    \n",
    "    （1）动态语言：在运行期间才去做数据类型检查的语言，也就是说，在用动态类型的语言编程时，永远也不用给任何变量指定数据类型，该语言会在你第一次赋值给变量时，在内部将数据类型记录下来。典型代表：Python、Ruby等。Python是动态语言，变量可以持有整数、字符串、列表、闭包等任何数据。\n",
    "     \n",
    "    （2）静态类型：静态类型语言与动态类型语言刚好相反，它的数据类型是在编译期间检查的，变量具有类型，而且在编译期确定，具有某一类型的变量只能持有相同类型的数据。典型代表：C/C++、C#、JAVA等。例如，C是静态类型语言，一个int型变量只能作为int来处理。\n",
    "   "
   ]
  },
  {
   "cell_type": "markdown",
   "metadata": {},
   "source": [
    "# Python 基本语法"
   ]
  },
  {
   "cell_type": "markdown",
   "metadata": {},
   "source": [
    "### 1.编码规范"
   ]
  },
  {
   "cell_type": "markdown",
   "metadata": {},
   "source": [
    "##### 命名规范\n",
    "    Python语言有一套自己的命名规则。命名规则并不是语法规定，只是一种习惯用法。\n",
    "\n",
    "    ·变量名：尽量小写，如有多个单词，用下划线隔开，如：school_name,count。私有类成员使用单一下划线前缀标识。\n",
    "    ·模块名/包名：全小写字母，简单有意义，如果需要可以使用下划线，如：math、sys\n",
    "    ·函数名：全小写字母，可以使用下划线增加可阅读性，如：foo()、my_func()。私有函数在函数前加一个下划线，如：_private_func()\n",
    "    ·类名：采用驼峰格式命名（CamelClass），由多个单词组成名称，其每个单词的首字母大写，如：MyClass\n",
    "    ·常量名：全部大写字母，可以使用下划线增加可阅读性，如：TOTAL、LEFT、TAX_RATE"
   ]
  },
  {
   "cell_type": "markdown",
   "metadata": {},
   "source": [
    "##### 代码缩进\n",
    "    对于C、C++、Java等语言，代码缩进只是作为编程的一种良好习惯。\n",
    "    对于Python而言：同一级别的代码必须一致！(并且建议所有级别的代码的缩进建议是相同的--必须，开发规范里建议4个空格）"
   ]
  },
  {
   "cell_type": "code",
   "execution_count": 29,
   "metadata": {},
   "outputs": [
    {
     "name": "stdout",
     "output_type": "stream",
     "text": [
      "True\n"
     ]
    }
   ],
   "source": [
    "#代码缩进\n",
    "if True:\n",
    "    print(\"True\")  #缩进建议4个空格，没有严格缩进，执行会报错\n",
    "else:\n",
    "    print(\"False\") #python代码块中必须使用相同数目的行首缩进空格数"
   ]
  },
  {
   "cell_type": "markdown",
   "metadata": {},
   "source": [
    "##### 注释\n",
    "    python中单行注释采用 # 开头\n",
    "    python中多行注释使用三个单引号(''')或三个双引号(\"\"\")"
   ]
  },
  {
   "cell_type": "code",
   "execution_count": 30,
   "metadata": {},
   "outputs": [
    {
     "name": "stdout",
     "output_type": "stream",
     "text": [
      "Hello, Python!\n"
     ]
    },
    {
     "data": {
      "text/plain": [
       "' 这是多行注释，使用单引号。\\n    这是多行注释，使用单引号。\\n    这是多行注释，使用单引号。\\n'"
      ]
     },
     "execution_count": 30,
     "metadata": {},
     "output_type": "execute_result"
    }
   ],
   "source": [
    "#单行注释\n",
    "print(\"Hello, Python!\") #这是一个注释\n",
    "\n",
    "''' 这是多行注释，使用单引号。\n",
    "    这是多行注释，使用单引号。\n",
    "    这是多行注释，使用单引号。\n",
    "'''"
   ]
  },
  {
   "cell_type": "markdown",
   "metadata": {},
   "source": [
    "### 2.模块导入规范\n",
    "    模块是类或函数的集合，用于处理一类问题，使用任何Python模块都必须先导入。模块的导入使用import语句或from…import…语句。\n",
    "\n",
    "    问题：\n",
    "    （1）以上导入方式的使用方法和区别\n",
    "    通常模块为一个文件，直接使用import来导入就好了。可以作为module的文件类型有\".py\"、\".pyo\"、\".pyc\"、\".pyd\"、\".so\"、\".dll\"。\n",
    "    通常包总是一个目录，可以使用import导入包，或者from + import来导入包中的部分模块。\n",
    "\n",
    "    方法：首先from A import a1 是从A模块导入a1（某个函数，类,全局变量）,from md import *的意思是，导入了这个md模块的所有。import A是导入整个A模块的全部内容（包括全部的函数，全局变量，类）\n",
    "    \n",
    "    区别：from...import...会在内存中创建并加载该模块工具的副本，当有另外一个程序导入时，会在内存中创建另一个副本进行加载，不会共用一个副本。所以程序进行的修改不会影响到被导入的原模块，且不同程序之间不会互相影响。import...方法导入模块会在内存中直接加载该模块的全部属性，当出现多个程序导入该模块时,会共用一个模块，程序之间会互相影响，包括原模块。\n",
    "    \n",
    "    \n",
    "    （2）如何导入自建模块？ 如何导入上一级目录或者根目录的模块？\n",
    "    第一种，直接import（前提是执行的py文件和模块同属于同个目录）\n",
    "    \n",
    "    第二种，通过sys模块导入自定义模块的path（如果执行文件和模块不在同一目录，这时候直接import是找不到自定义模块的）\n",
    "    sys模块是python内置的，因此我们导入自定义模块的步骤如下：\n",
    "    ·先导入sys模块\n",
    "    ·然后通过sys.path.append(path) 函数来导入自定义模块所在的目录\n",
    "    ·导入自定义模块。\n",
    "    \n",
    "    第三种，通过pth文件找到自定义模块\n",
    "    这个方法原理就是利用了系统变量，python会扫描path变量的路径来导入模块，可以在系统path里面添加。推荐使用pth文件添加。\n",
    "    ·创建一个 module_pwcong.pth 文件，里面内容就是 pwcong模块所在的目录，如：C:\\Users\\Pwcong\\Desktop\\python\n",
    "    ·将该 module_pwcong.pth 文件放到： python安装目录\\Python35\\Lib\\site-packages下\n",
    "    ·在运行模块中import pwcong并使用这个自定义模块\n",
    "    \n",
    "    \n",
    "    （3）Python2和Python3导入模块的区别\n",
    "    假如你有一个脚本函数a.py和b.py存放在file文件夹中。当你想调用a函数时。写作：import file.a。但如果a.py需要调用b.py函数的话，在python2环境下a.py文件中直接用import b即可。但python3文件中a.py要调用b文件需要改写成import file.b。否则会出现no module named b\n",
    "    \n",
    "    python2默认为相对路径导入（如from . import b或者from ..a import b），Python 2解释器会先在当前目录里搜索，然后再去Python搜索路径(sys.path)里搜索。\n",
    "    python3默认为绝对路径导入（如import a.b或者from a import b）。Python 3不会首先在当前路径搜索，它会直接在Python的搜索路径里寻找。为使python2，3通用，建议采用相对路径导入from .a import b，如果要从包里的一个模块导入包里的另外一个模块，需要显式地提供两个模块的相对路径。\n"
   ]
  },
  {
   "cell_type": "markdown",
   "metadata": {},
   "source": [
    "### 3.变量\n",
    "    （1）变量命名规则\n",
    "    在 Python 里，标识符由字母、数字、下划线组成，但不能以数字开头。Python 中的标识符是区分大小写的。  ![image.png](./变量.png)\n",
    "  "
   ]
  },
  {
   "cell_type": "code",
   "execution_count": 31,
   "metadata": {},
   "outputs": [
    {
     "name": "stdout",
     "output_type": "stream",
     "text": [
      "t t\n",
      "[1, 2, 3]\n"
     ]
    }
   ],
   "source": [
    "#赋值语句\n",
    "\n",
    "a='test'   #基本赋值\n",
    "a,b='this','is'  #元组赋值\n",
    "[a,b]=['test','a']   #列表赋值\n",
    "a,b,c,d='test'  #序列赋值\n",
    "print(a,d)\n",
    "\n",
    "s=[1,2]   #增强赋值\n",
    "s+=[3]\n",
    "print(s)"
   ]
  },
  {
   "cell_type": "code",
   "execution_count": 32,
   "metadata": {},
   "outputs": [
    {
     "name": "stdout",
     "output_type": "stream",
     "text": [
      "boy\n",
      "girl\n",
      "animal\n",
      "1\n",
      "0\n",
      "8\n"
     ]
    }
   ],
   "source": [
    "#多重赋值\n",
    "\n",
    "test = [\"boy\", \"girl\", \"animal\"]  # 列表赋值\n",
    "\n",
    "a = test[0]\n",
    "b = test[1]\n",
    "c = test[2]\n",
    "\n",
    "print(a)\n",
    "print(b)\n",
    "print(c)\n",
    "\n",
    "h,j,k=1,8,0   # 变量赋值\n",
    "j,k=k,j   # 变量值互换\n",
    "\n",
    "print(h)\n",
    "print(j)\n",
    "print(k)"
   ]
  },
  {
   "cell_type": "markdown",
   "metadata": {},
   "source": [
    "### 4.运算符与表达式\n"
   ]
  },
  {
   "cell_type": "code",
   "execution_count": 33,
   "metadata": {},
   "outputs": [
    {
     "name": "stdout",
     "output_type": "stream",
     "text": [
      "31 11 210 2.1 1 1024 2\n"
     ]
    }
   ],
   "source": [
    "#算术运算符\n",
    "a=21;b=10\n",
    "a1=2\n",
    "c1=a+b;  \n",
    "c2=a-b;\n",
    "c3=a*b;\n",
    "c4=a/b;\n",
    "c5=a%b;  #模 - 由操作数a模操作数b取余\n",
    "c6=a1**b  #指数 - 执行操作指数（幂）的计算\n",
    "c7=a//b  #整除 - 返回商的整数部分\n",
    "print(c1,c2,c3,c4,c5,c6,c7)\n",
    "\n",
    "\n"
   ]
  },
  {
   "cell_type": "code",
   "execution_count": 34,
   "metadata": {},
   "outputs": [
    {
     "name": "stdout",
     "output_type": "stream",
     "text": [
      "2 5\n"
     ]
    }
   ],
   "source": [
    "#赋值运算符\n",
    "a=5;b=3\n",
    "c=a-b\n",
    "a+=b  # a=a+b=8\n",
    "a-=b  # a=a-b=8-3=5\n",
    "print(c,a)"
   ]
  },
  {
   "cell_type": "code",
   "execution_count": 35,
   "metadata": {},
   "outputs": [
    {
     "name": "stdout",
     "output_type": "stream",
     "text": [
      "True\n",
      "False\n",
      "True\n",
      "True\n",
      "True\n",
      "True\n",
      "True\n"
     ]
    }
   ],
   "source": [
    "#关系（比较）运算符\n",
    "print(3<5)\n",
    "print(3>5)\n",
    "print(5>=3)\n",
    "print(5<=5)\n",
    "print(1==1.0)\n",
    "print(1!=2)\n",
    "x=3;y=3  #x is y, 如果id(x) == id(y)，即x也y的指向同一个内存地址，则结果为Trues\n",
    "print(id(x)==id(y)) "
   ]
  },
  {
   "cell_type": "code",
   "execution_count": 36,
   "metadata": {},
   "outputs": [
    {
     "name": "stdout",
     "output_type": "stream",
     "text": [
      "True\n",
      "False\n",
      "False\n"
     ]
    }
   ],
   "source": [
    "#逻辑运算符\n",
    "print(9>8 or 9<9)  #或操作\n",
    "print(6.2>=6 and 9>10)  #与操作\n",
    "print(not 5)  #非操作"
   ]
  },
  {
   "cell_type": "markdown",
   "metadata": {},
   "source": [
    "### 5.运算符的优先级\n",
    "    python3中运算符优先级（从高到低）：![image.png](./运算符优先级.png)\n",
    "    \n",
    "    Python2和Python3在运算符和表达式上的不同之处：\n",
    "    ·raw_input与input\n",
    "    从键盘中输入内容时，python2用的是raw_input,而python3使用的是input\n",
    "    ·print与print()\n",
    "    打印时python2使用的是print + 内容，而python3则使用的是print（内容）\n",
    "    ·/与//的区别\n",
    "    python2中 / 表示整除（取整数），// 也表示整除（取整数),也就是说，python2中/和//都表示整除（取整数)\n",
    "    python3中 / 表示的是做除法运算（不一定为整数），而//表示的是整除（取整数）\n",
    "    ·不等运算符<>与！=\n",
    "    python2中<>与！=都可以使用，都表示不相等的判断\n",
    "    而python3就不一样了，python3表示不相等的判断时只能用！=\n",
    "    ·编码问题\n",
    "    python2默认编码为ASCII，这就是为什么我们在编写代码出现中文时需要在第一行加上#coding=utf-8\n",
    "    python3默认编码为utf-8，因此python3不需要再出现中文时需要在第一行加上#coding=utf-8\n"
   ]
  },
  {
   "cell_type": "markdown",
   "metadata": {},
   "source": [
    "# python数据结构\n",
    "    Python提供了几个功能强大而高效的数据结构：列表、字典、元组和集合。在Python中，两个主力数据结构是列表和字典，列表按顺序存储数据，而字典就像小型数据库，使用键高效地存储和检索数据。程序员可以根据需要组合使用它们，以创建更复杂的数据结构。"
   ]
  },
  {
   "cell_type": "markdown",
   "metadata": {},
   "source": [
    "### 1.用途和使用方法"
   ]
  },
  {
   "cell_type": "markdown",
   "metadata": {},
   "source": [
    "    ·列表：任何数据类型、可变、有序\n",
    "    列表操作包含以下方法:\n",
    "    list.append(obj)：在列表末尾添加新的对象\n",
    "    list.count(obj)：统计某个元素在列表中出现的次数\n",
    "    list.extend(seq)：在列表末尾一次性追加另一个序列中的多个值（用新列表扩展原来的列表）\n",
    "    list.index(obj)：从列表中找出某个值第一个匹配项的索引位置  list.insert(index, obj)：将对象插入列表\n",
    "    list.pop(obj=list[-1])：移除列表中的一个元素（默认最后一个元素），并且返回该元素的值\n",
    "    list.remove(obj)：移除列表中某个值的第一个匹配项\n",
    "    list.reverse()：反向列表中元素\n",
    "    list.sort([func])：对原列表进行排序\n",
    "    \n",
    "    ·字典：不可变序列才能做键、可变、无序    \n",
    "    字典操作包含以下方法:\n",
    "    d.clear()：清除字典中的所有项\n",
    "    d.copy()：返回一个具有相同键值的新字典\n",
    "    d.fromkeys()：使用给定的键建立新的字典，键默认对应的值为None\n",
    "    d.get()：访问字典成员\n",
    "    d.has_key()：检查字典中是否含有给出的键\n",
    "    d.items()：items将所有的字典项以列表方式返回，列表中项来自（键，值）\n",
    "    d.keys()：keys将字典中的键以列表形式返回\n",
    "    d.pop()：删除字典中对应的键\n",
    "    d.values()：values以列表的形式返回字典中的值\n",
    "    \n",
    "    ·元祖：任何数据类型、不可变、有序\n",
    "    ·集合：一个无序的不重复元素序列\n",
    "    \n",
    "    Python内置的数据类型list和tuple的数据结构是线性表，对线性表做一些插入操作时间复杂度显然比链表要高。\n",
    "\n"
   ]
  },
  {
   "cell_type": "markdown",
   "metadata": {},
   "source": [
    "### 2.排序方法\n",
    "  \n",
    "    列表升降序：list.sort()、list.sorted(a,reverse=1)\n",
    "    算法：插入排序、希尔排序、冒泡排序、快速排序、选择排序、归并排序"
   ]
  },
  {
   "cell_type": "code",
   "execution_count": 37,
   "metadata": {},
   "outputs": [
    {
     "name": "stdout",
     "output_type": "stream",
     "text": [
      "[2, 3, 4, 5, 6, 6, 7, 8, 9]\n"
     ]
    }
   ],
   "source": [
    "#插入排序\n",
    "'''插入排序的基本操作就是将一个数据插入到已经排好序的有序数据中，从而得到一个新的、个数加一的有序数据，算法适用于少量数据的排序；\n",
    "   首先将第一个作为已经排好序的，然后每次从后的取出插入到前面并排序；\n",
    "   时间复杂度：O(n²)\n",
    "   空间复杂度：O(1)\n",
    "   稳定性：稳定\n",
    "'''\n",
    "\n",
    "def insert_sort(ilist):\n",
    "\n",
    "    for i in range(len(ilist)):\n",
    "\n",
    "        for j in range(i):\n",
    "\n",
    "            if ilist[i] < ilist[j]:\n",
    "\n",
    "                ilist.insert(j, ilist.pop(i))\n",
    "\n",
    "                break\n",
    "\n",
    "    return ilist\n",
    "\n",
    " \n",
    "\n",
    "ilist = insert_sort([4,5,6,7,3,2,6,9,8])\n",
    "\n",
    "print(ilist)\n"
   ]
  },
  {
   "cell_type": "code",
   "execution_count": 38,
   "metadata": {},
   "outputs": [
    {
     "name": "stdout",
     "output_type": "stream",
     "text": [
      "[2, 3, 4, 5, 6, 6, 7, 8, 9]\n"
     ]
    }
   ],
   "source": [
    "#希尔排序\n",
    "'''\n",
    "希尔排序是把记录按下标的一定增量分组，对每组使用直接插入排序算法排序；随着增量逐渐减少，每组包含的关键词越来越多，当增量减至1时，整个文件恰被分成一组，算法便终止\n",
    "时间复杂度：O(n)\n",
    "空间复杂度：O(n√n)\n",
    "稳定性：不稳定\n",
    "'''\n",
    "def shell_sort(slist):\n",
    "\n",
    "    gap = len(slist)\n",
    "\n",
    "    while gap > 1:\n",
    "\n",
    "        gap = gap // 2\n",
    "\n",
    "        for i in range(gap, len(slist)):\n",
    "\n",
    "            for j in range(i % gap, i, gap):\n",
    "\n",
    "                if slist[i] < slist[j]:\n",
    "\n",
    "                    slist[i], slist[j] = slist[j], slist[i]\n",
    "\n",
    "    return slist\n",
    "\n",
    " \n",
    "\n",
    "slist = shell_sort([4,5,6,7,3,2,6,9,8])\n",
    "\n",
    "print (slist)"
   ]
  },
  {
   "cell_type": "code",
   "execution_count": 39,
   "metadata": {},
   "outputs": [
    {
     "name": "stdout",
     "output_type": "stream",
     "text": [
      "[2, 3, 4, 5, 6, 6, 7, 8, 9]\n"
     ]
    }
   ],
   "source": [
    "#冒泡排序\n",
    "'''\n",
    "它重复地走访过要排序的数列，一次比较两个元素，如果他们的顺序错误就把他们交换过来。走访数列的工作是重复地进行直到没有再需要交换，也就是说该数列已经排序完成\n",
    "时间复杂度：O(n²)\n",
    "空间复杂度：O(1)\n",
    "稳定性：稳定\n",
    "'''\n",
    "def bubble_sort(blist):\n",
    "\n",
    "    count = len(blist)\n",
    "\n",
    "    for i in range(0, count):\n",
    "\n",
    "        for j in range(i + 1, count):\n",
    "\n",
    "            if blist[i] > blist[j]:\n",
    "\n",
    "                blist[i], blist[j] = blist[j], blist[i]\n",
    "\n",
    "    return blist\n",
    "\n",
    " \n",
    "\n",
    "blist = bubble_sort([4,5,6,7,3,2,6,9,8])\n",
    "\n",
    "print (blist)"
   ]
  },
  {
   "cell_type": "code",
   "execution_count": 40,
   "metadata": {},
   "outputs": [
    {
     "name": "stdout",
     "output_type": "stream",
     "text": [
      "[2, 3, 4, 5, 6, 6, 7, 8, 9]\n"
     ]
    }
   ],
   "source": [
    "#快速排序\n",
    "'''\n",
    "通过一趟排序将要排序的数据分割成独立的两部分，其中一部分的所有数据都比另外一部分的所有数据都要小，然后再按此方法对这两部分数据分别进行快速排序，整个排序过程可以递归进行，以此达到整个数据变成有序序列\n",
    "时间复杂度：O(nlog₂n)\n",
    "空间复杂度：O(nlog₂n)\n",
    "稳定性：不稳定\n",
    "'''\n",
    "\n",
    "def quick_sort(qlist):\n",
    "\n",
    "    if qlist == []:\n",
    "\n",
    "        return []\n",
    "\n",
    "    else:\n",
    "\n",
    "        qfirst = qlist[0]\n",
    "\n",
    "        qless = quick_sort([l for l in qlist[1:] if l < qfirst])\n",
    "\n",
    "        qmore = quick_sort([m for m in qlist[1:] if m >= qfirst])\n",
    "\n",
    "        return qless + [qfirst] + qmore\n",
    "\n",
    " \n",
    "qlist = quick_sort([4,5,6,7,3,2,6,9,8])\n",
    "\n",
    "print (qlist)"
   ]
  },
  {
   "cell_type": "code",
   "execution_count": 41,
   "metadata": {},
   "outputs": [
    {
     "name": "stdout",
     "output_type": "stream",
     "text": [
      "[2, 3, 4, 5, 6, 6, 7, 8, 9]\n"
     ]
    }
   ],
   "source": [
    "#选择排序\n",
    "'''\n",
    "第1趟，在待排序记录r1 ~ r[n]中选出最小的记录，将它与r1交换；第2趟，在待排序记录r2 ~ r[n]中选出最小的记录，将它与r2交换；以此类推，第i趟在待排序记录r[i] ~ r[n]中选出最小的记录，将它与r[i]交换，使有序序列不断增长直到全部排序完毕\n",
    "时间复杂度：O(n²)\n",
    "空间复杂度：O(1)\n",
    "稳定性：不稳定\n",
    "'''\n",
    "def select_sort(slist):\n",
    "\n",
    "    for i in range(len(slist)):\n",
    "\n",
    "        x = i\n",
    "\n",
    "        for j in range(i, len(slist)):\n",
    "\n",
    "            if slist[j] < slist[x]:\n",
    "\n",
    "                x = j\n",
    "\n",
    "        slist[i], slist[x] = slist[x], slist[i]\n",
    "\n",
    "    return slist\n",
    "\n",
    " \n",
    "\n",
    "slist = select_sort([4,5,6,7,3,2,6,9,8])\n",
    "\n",
    "print (slist)"
   ]
  },
  {
   "cell_type": "code",
   "execution_count": 42,
   "metadata": {},
   "outputs": [],
   "source": [
    "#归并排序\n",
    "'''\n",
    "采用分治法（Divide and Conquer）的一个非常典型的应用。将已有序的子序列合并，得到完全有序的序列；即先使每个子序列有序，再使子序列段间有序。若将两个有序表合并成一个有序表，称为二路归并\n",
    "\n",
    "时间复杂度：O(nlog₂n)\n",
    "空间复杂度：O(1)\n",
    "稳定性：稳定\n",
    "'''\n",
    "def merge_sort(array):\n",
    "\n",
    "    def merge_arr(arr_l, arr_r):\n",
    "\n",
    "        array = []\n",
    "\n",
    "        while len(arr_l) and len(arr_r):\n",
    "\n",
    "            if arr_l[0] <= arr_r[0]:\n",
    "\n",
    "                array.append(arr_l.pop(0))\n",
    "\n",
    "            elif arr_l[0] > arr_r[0]:\n",
    "\n",
    "                array.append(arr_r.pop(0))\n",
    "\n",
    "        if len(arr_l) != 0:\n",
    "\n",
    "            array += arr_l\n",
    "\n",
    "        elif len(arr_r) != 0:\n",
    "\n",
    "            array += arr_r\n",
    "\n",
    "        return array\n",
    "\n",
    "    def recursive(array):\n",
    "\n",
    "        if len(array) == 1:\n",
    "\n",
    "            return array\n",
    "\n",
    "        mid = len(array) // 2\n",
    "\n",
    "        arr_l = recursive(array[:mid])\n",
    "\n",
    "        arr_r = recursive(array[mid:])\n",
    "\n",
    "        return merge_arr(arr_l, arr_r)\n",
    "\n",
    "    return recursive(array)"
   ]
  },
  {
   "cell_type": "markdown",
   "metadata": {},
   "source": [
    "\n",
    "![%E7%AE%97%E6%B3%95%E6%89%A7%E8%A1%8C%E6%97%B6%E9%97%B4.png](./算法执行时间.png)"
   ]
  },
  {
   "cell_type": "markdown",
   "metadata": {},
   "source": [
    "# python字符串\n",
    "    在Python中，字符串是除数字外最重要的数据类型。字符串无处不在：将字符串输出到屏幕上；从用户的键盘输入读取字符串；文件通常被视为大型字符串；网页大部分是由文本组成的。字符串是一种聚合数据结构，可充分利用索引和切片—用于从字符串中提取子串。而Python正则表达式库，是一种用来处理字符串的微型语言，但功能强大。\n",
    "\n",
    "    Python中，字符串、列表和元组都属于序列,序列有一些通用的操作,包括：索引（indexing）、分片（slicing）、加（adding）、乘（multiplying）、检查某个元素是否属于序列的成员（成员资格）、计算序列长度、找出最大元素和最小元素，替换、合并、拆分、改变大小写函数"
   ]
  },
  {
   "cell_type": "markdown",
   "metadata": {},
   "source": [
    "### 1.字符串常用函数"
   ]
  },
  {
   "cell_type": "markdown",
   "metadata": {},
   "source": [
    "    ·字母处理\n",
    "    1.string.capitalize()\n",
    "    返回元字符串，且将字符串第一个字母转为大写，其它字母小写\n",
    "    2.string.title()\n",
    "    返回元字符串，且将字符串第一个字母转为大写，其它字母小写\n",
    "    3.string.swapcase()\n",
    "    用于对字符串的大小写字母进行转换，小写字符转为大写，大写字母转为小写\n",
    "    4.string.upper()\n",
    "    将字符串全部转为大写\n",
    "    5.string.lower()\n",
    "    将字符串全部转为小写\n",
    "    \n",
    "    ·去除空格或者指定字符串\n",
    "    1.string.strip([string])\n",
    "    去除字符串中首尾的字符串，不带参数默认去除空格\n",
    "    2.string.lstrip([string])\n",
    "    去除字符串左边字符串，不带参数默认去除空格\n",
    "    3.string.rstrip([string])\n",
    "    去除字符串右边字符串，不带参数默认去除空格\n",
    "\n",
    "    ·格式化对齐\n",
    "    1.string.center(width[, fillchar])\n",
    "    返回一个原字符串居中对齐，width为总长度，两边用一个字符fillchar填充，如果指定的长度小于原字符串的长度则返回原字符串。注意：如果fillchar超过1个长度或为非字符串或为汉字，则会报出异常\n",
    "    2.string.ljust(width[, fillchar])\n",
    "    返回原字符串左对齐,并使用空格填充至指定长度的新字符串，如果指定的长度小于原字符串的长度则返回原字符串。注意：如果fillchar超过1个长度或为非字符串或为汉字，则会报出异常\n",
    "    3.string.rjust(width[, fillchar])\n",
    "    返回原字符串右对齐,并使用空格填充至指定长度的新字符串，如果指定的长度小于字符串的长度则返回原字符串。注意：如果fillchar超过1个长度或为非字符串或为汉字，则会报出异常\n",
    "    4.string.zfill()\n",
    "    返回指定长度的字符串，原字符串右对齐，前面填充0\n",
    "    \n",
    "    ·替换\n",
    "    1.string.replace(old, new[, count])\n",
    "    用新的字符替换老字符，还可以指定替换的个数，默认全部替换\n",
    "    2.string.expandtabs([n])\n",
    "    将字符串中(tab符号)\\t转换成n个空格\n",
    "    \n",
    "    ·字符串搜索\n",
    "    1.string.find(sub [,start [,end]])\n",
    "    返回sub字符串第一次出现的索引位置，可以通过start和stop参数设置搜索范围，如果未找到sub时返回-1\n",
    "    2.string.rfind(sub [,start [,end]])\n",
    "    返回sub字符串最后一次出现的索引位置，如果没有匹配项则返回-1，可以通过start和stop参数设置搜索范围\n",
    "    3.string.index(sub [,start [,end]])\n",
    "    类似于string.find()方法。注意：未找到sub时会报出异常\n",
    "    4.string.rindex(sub [,start [,end]])\n",
    "    类似于string.rfind()方法。注意：未找到sub时会报出异常\n",
    "    \n",
    "    ·字符串分割\n",
    "    1.string.split([sep [,maxsplit]])\n",
    "    用来根据指定的分隔符将字符串进行分割，不包含分隔符，结果存为列表，不指定sep时，默认将将空格作为分隔符\n",
    "    2.string.partition(sep)\n",
    "    用来根据指定的分隔符将字符串进行分割，分割点为首次出现sep的地方，且包含分隔符，结果存为元组，且固定为3个元素，如果sep不存在字符串中，则后面2个元素为空\n",
    "    3.string.rpartiton()\n",
    "    用来根据指定的分隔符将字符串进行分割，分割点为最后一次出现sep的地方，且包含分隔符，结果存为元组，且固定为3个元素，如果sep不存在字符串中，则前面2个元素为空\n",
    "     \n",
    "    ·字符串判断   \n",
    "    1.string.isupper()\n",
    "    返回字符串中是否全为大写 --> True/False\n",
    "    2.string.islower()\n",
    "    返回字符串中是否全为小写 --> True/False\n",
    "    3.string.isdigit()\n",
    "    返回字符串中是否只包含数字 --> True/False\n",
    "    4.string.isalpha()\n",
    "    返回字符串中是否只包含字母 --> True/False\n",
    "    5.string.isalnum()\n",
    "    返回字符串中是否只包含字母或数字 --> True/False\n",
    "    6.string.isspace()\n",
    "    返回字符串中是否只包含空格（tab也算空格） --> True/False\n",
    "    7.string.istitle()\n",
    "    返回字符串中首字母是否大写 --> True/False\n",
    "    8.string.startswith(prefix[, start[, end]])\n",
    "    返回字符串是否以某字符串开始，可以通过start和stop参数设置搜索范围\n",
    "    9.string.endswith(suffix[, start[, end]])\n",
    "    返回字符串是否以某个字符串结束 可以通过start和stop参数设置搜索范围\n",
    "    \n",
    "    ·其他\n",
    "    1.string.count(sub[, start[, end]])\n",
    "    计数字符串中某子集的数量，可以通过start和stop参数设置搜索范围\n",
    "    2.len(string)\n",
    "    获取字符串的长度\n",
    "    3.list(string)\n",
    "    字符串转列表\n",
    "    4.string.join(iterable)\n",
    "    列表转字符串，用于将序列中的元素以指定的字符string连接生成一个新的字符串。注意：iterable只能是字符串类型，否则会报出异常\n",
    "    5.string.encode(encoding='UTF-8',errors='strict')\n",
    "    以 encoding 指定的编码格式编码字符串\n",
    "    6.string.decode(encoding='UTF-8',errors='strict')\n",
    "    解码字符串，出错默认报ValueError,除非errors是ignore或replace\n",
    "    7.string.translate(table [,deletechars])\n",
    "    根据参数table给出的表(包含 256 个字符)转换字符串的字符, 要过滤掉的字符放到deletechars参数中\n",
    "    "
   ]
  },
  {
   "cell_type": "markdown",
   "metadata": {},
   "source": [
    "### 2.字符串拼接"
   ]
  },
  {
   "cell_type": "code",
   "execution_count": 43,
   "metadata": {},
   "outputs": [
    {
     "name": "stdout",
     "output_type": "stream",
     "text": [
      "hello world\n"
     ]
    }
   ],
   "source": [
    "#加号连接\n",
    "a, b = 'hello', ' world'\n",
    "print(a + b)"
   ]
  },
  {
   "cell_type": "code",
   "execution_count": 44,
   "metadata": {},
   "outputs": [
    {
     "name": "stdout",
     "output_type": "stream",
     "text": [
      "hello  world\n"
     ]
    }
   ],
   "source": [
    "#逗号连接\n",
    "a, b = 'hello', ' world'\n",
    "print(a, b)"
   ]
  },
  {
   "cell_type": "code",
   "execution_count": 45,
   "metadata": {},
   "outputs": [
    {
     "name": "stdout",
     "output_type": "stream",
     "text": [
      "Hello World!\n"
     ]
    }
   ],
   "source": [
    "#通过str.join()方法拼接\n",
    "strlist=['Hello',' ','World','!']\n",
    "print(''.join(strlist))"
   ]
  },
  {
   "cell_type": "code",
   "execution_count": 46,
   "metadata": {},
   "outputs": [
    {
     "name": "stdout",
     "output_type": "stream",
     "text": [
      "Hello World!\n"
     ]
    }
   ],
   "source": [
    "#通过str.format()方法拼接\n",
    "s='{} {}!'.format('Hello','World')\n",
    "print(s)"
   ]
  },
  {
   "cell_type": "code",
   "execution_count": 47,
   "metadata": {},
   "outputs": [
    {
     "name": "stdout",
     "output_type": "stream",
     "text": [
      "Hello World!\n"
     ]
    }
   ],
   "source": [
    "#通过(%)操作符拼接\n",
    "s = '%s %s!' % ('Hello', 'World')\n",
    "print(s)"
   ]
  },
  {
   "cell_type": "code",
   "execution_count": 48,
   "metadata": {},
   "outputs": [
    {
     "name": "stdout",
     "output_type": "stream",
     "text": [
      "Hello World!\n"
     ]
    }
   ],
   "source": [
    "#通过()多行拼接\n",
    "s = (\n",
    "  'Hello'\n",
    "  ' '\n",
    "  'World'\n",
    "  '!'\n",
    ")\n",
    "print(s)"
   ]
  },
  {
   "cell_type": "code",
   "execution_count": 49,
   "metadata": {},
   "outputs": [
    {
     "name": "stdout",
     "output_type": "stream",
     "text": [
      "Hello World!\n"
     ]
    }
   ],
   "source": [
    "#通过string模块中的Template对象拼接\n",
    "from string import Template\n",
    "s = Template('${s1} ${s2}!') \n",
    "print(s.safe_substitute(s1='Hello',s2='World'))"
   ]
  },
  {
   "cell_type": "code",
   "execution_count": 50,
   "metadata": {},
   "outputs": [
    {
     "name": "stdout",
     "output_type": "stream",
     "text": [
      "Hello World!\n"
     ]
    }
   ],
   "source": [
    "#通过F-strings拼接\n",
    "s1='Hello'\n",
    "s2='World'\n",
    "print(f'{s1} {s2}!')"
   ]
  },
  {
   "cell_type": "markdown",
   "metadata": {},
   "source": [
    "### 3.字符串、列表和元组不同之处\n",
    "    ·字符串是有序的不可修改的序列，字符串的元素只能是字符且长度只能为1\n",
    "    ·列表是动态数组，它们可以重设长度（改变其内部元素的个数），被用于保存多个互相独立对象的数据集合\n",
    "    ·元组是静态数组，它们不可变，其内部数据一旦创建便无法改变，元组不能追加(append)元素，弹出(pop)元素。元组的元素可以是任何类型且度可以任意。缓存于Python运行时环境，这意味着我们每次使用元组时无须访问内核去分配内存。\n"
   ]
  },
  {
   "cell_type": "markdown",
   "metadata": {},
   "source": [
    "### 4.正则表达式-常用函数"
   ]
  },
  {
   "cell_type": "code",
   "execution_count": 51,
   "metadata": {},
   "outputs": [
    {
     "name": "stdout",
     "output_type": "stream",
     "text": [
      "No match!!\n",
      "search --> matchObj.group() : \n"
     ]
    }
   ],
   "source": [
    "#==re.match函数与re.search函数    \n",
    "\n",
    "import re\n",
    " \n",
    "line = \"Cats are smarter than dogs\";\n",
    "matchObj = re.match( r'dogs', line, re.M|re.I)\n",
    "if matchObj:\n",
    "   print (\"match --> matchObj.group() : \"), matchObj.group()\n",
    "else:\n",
    "   print (\"No match!!\")\n",
    " \n",
    "matchObj = re.search( r'dogs', line, re.M|re.I)\n",
    "if matchObj:\n",
    "   print (\"search --> matchObj.group() : \"), matchObj.group()\n",
    "else:\n",
    "   print (\"No match!!\")\n",
    "\n",
    "#re.match只匹配字符串的开始，如果字符串开始不符合正则表达式，则匹配失败，函数返回None；而re.search匹配整个字符串，直到找到一个匹配。"
   ]
  },
  {
   "cell_type": "code",
   "execution_count": 52,
   "metadata": {},
   "outputs": [
    {
     "name": "stdout",
     "output_type": "stream",
     "text": [
      "电话号码是:  2004-959-559 \n",
      "电话号码是 :  2004959559\n"
     ]
    }
   ],
   "source": [
    "#==re.sub函数\n",
    "\n",
    "import re\n",
    "\n",
    "phone = \"2004-959-559 # 这是一个国外电话号码\"\n",
    " \n",
    "num = re.sub(r'#.*$', \"\", phone) # 删除字符串中的 Python注释\n",
    "print (\"电话号码是: \", num)\n",
    " \n",
    "num = re.sub(r'\\D', \"\", phone) # 删除非数字(-)的字符串 \n",
    "print (\"电话号码是 : \", num)"
   ]
  },
  {
   "cell_type": "code",
   "execution_count": 53,
   "metadata": {},
   "outputs": [
    {
     "name": "stdout",
     "output_type": "stream",
     "text": [
      "['abc', '23', 'def', '44', '']\n",
      "['abc', 'def', '']\n"
     ]
    }
   ],
   "source": [
    "#==re.split\n",
    "\n",
    "import re\n",
    "\n",
    "m = re.split( '(\\d+)' , 'abc23def44')  #加括号，显示匹配的项\n",
    "print(m)\n",
    "\n",
    "n = re.split( '\\d+' , 'abc23def44')  #不加括号，不显示匹配的项\n",
    "print(n)"
   ]
  },
  {
   "cell_type": "code",
   "execution_count": 54,
   "metadata": {},
   "outputs": [
    {
     "name": "stdout",
     "output_type": "stream",
     "text": [
      "12\n",
      "32\n",
      "43\n",
      "3\n"
     ]
    }
   ],
   "source": [
    "#==re.finditer\n",
    "\n",
    "import re\n",
    "\n",
    "it = re.finditer(r\"\\d+\",\"12a32bc43jf3\") \n",
    "\n",
    "for match in it: \n",
    "    print (match.group() )"
   ]
  },
  {
   "cell_type": "markdown",
   "metadata": {},
   "source": [
    "### 5.正则表达式-模式"
   ]
  },
  {
   "cell_type": "markdown",
   "metadata": {},
   "source": [
    "    正则表达式(regular expression)描述了一种字符串匹配的模式（pattern），可以用来检查一个串是否含有某种子串、将匹配的子串替换或者从某个串中取出符合某个条件的子串等\n",
    "\n",
    "    ·正则表达式模式\n",
    "        *：匹配前面的子表达式零次或多次。要匹配 * 字符，请使用 \\*。\n",
    "        .：匹配除换行符 \\n 之外的任何单字符。要匹配 . ，请使用 \\. 。\n",
    "        ?：匹配前面的子表达式零次或一次，或指明一个非贪婪限定符。要匹配 ? 字符，请使用 \\?。\n",
    "        ^：匹配输入字符串的开始位置。\n",
    "        $：匹配输入字符串的结尾位置。\n",
    "        \\d：匹配一个数字字符。等价于 [0-9]。\n",
    "        \\D：匹配一个非数字字符。等价于 [^0-9]。\n",
    "        \\s：匹配任何空白字符，包括空格、制表符、换页符等等。等价于 [\\f\\n\\r\\t\\v]。\n",
    "        \\S：匹配任何非空白字符。等价于 [^ \\f\\n\\r\\t\\v]。\n",
    "        \\w：匹配包括下划线的任何单词字符。等价于'[A-Za-z0-9_]'。\n",
    "        \\W：匹配任何非单词字符。等价于 '[^A-Za-z0-9_]'。\n",
    "        re{ n,}：精确匹配n个前面表达式。\n",
    "        re{ n, m}：配 n 到 m 次由前面的正则表达式定义的片段，贪婪方式\n",
    "        [...]：用来表示一组字符,单独列出：[amk] 匹配 'a'，'m'或'k'\n",
    "        [^...]：不在[]中的字符：[^abc] 匹配除了a,b,c之外的字符。\n",
    "        a| b：匹配a或b\n",
    "        [a-z]：匹配任何小写字母\n",
    "        [A-Z]：匹配任何大写字母\n",
    "        [a-zA-Z0-9]：匹配任何字母及数字\n",
    "        [0-9]：匹配任何数字。类似于 [0123456789]\n",
    "        [^0-9]：匹配除了数字外的字符"
   ]
  },
  {
   "cell_type": "markdown",
   "metadata": {},
   "source": [
    "# Github和Jupyter"
   ]
  },
  {
   "cell_type": "markdown",
   "metadata": {},
   "source": [
    "    ·Github优点：\n",
    "      （1）github是一个基于git的web 协作社区，它有多种机制让大家协同的和你一起的对项目进行贡献。世界上最大的开源软件社区。\n",
    "      （2）github全平台、全设备支持，你可以在任何终端上，随时随地的共享你的代码、评论或着其他有意义的信息。\n",
    "      （3）代码托管；项目管理；Github Pages\n",
    "    ·Jupyter Notebook（此前被称为 IPython notebook）\n",
    "        它是一个交互式笔记本，支持运行 40 多种编程语言。\n"
   ]
  }
 ],
 "metadata": {
  "kernelspec": {
   "display_name": "Python 3",
   "language": "python",
   "name": "python3"
  },
  "language_info": {
   "codemirror_mode": {
    "name": "ipython",
    "version": 3
   },
   "file_extension": ".py",
   "mimetype": "text/x-python",
   "name": "python",
   "nbconvert_exporter": "python",
   "pygments_lexer": "ipython3",
   "version": "3.7.2"
  }
 },
 "nbformat": 4,
 "nbformat_minor": 2
}
